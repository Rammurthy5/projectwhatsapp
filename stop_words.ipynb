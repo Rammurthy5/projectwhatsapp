{
 "cells": [
  {
   "cell_type": "markdown",
   "metadata": {},
   "source": [
    "# Stop Words"
   ]
  },
  {
   "cell_type": "code",
   "execution_count": 1,
   "metadata": {},
   "outputs": [],
   "source": [
    "import spacy\n",
    "nlp = spacy.load('en_core_web_sm')"
   ]
  },
  {
   "cell_type": "code",
   "execution_count": 4,
   "metadata": {},
   "outputs": [
    {
     "name": "stdout",
     "output_type": "stream",
     "text": [
      "{'had', 'else', 'noone', 'otherwise', 'between', 'moreover', 'myself', 'see', 'will', 'his', 'thereby', 'front', 'their', 'well', 'without', 'such', 'never', 'full', 'or', 'yourselves', 'whereafter', 'which', 'so', 'several', 'twenty', 'used', 'we', 'on', 'down', 'fifty', 'hereupon', 'off', 'them', 'has', 'mostly', 'under', 'before', 'onto', 'own', 'someone', 'two', 'yourself', 'afterwards', 'he', 'does', 'four', 'some', 'due', 'seemed', 'using', 'another', 'very', 'thereupon', 'other', 'show', 'this', 'may', 'alone', 'much', 'sometime', 'beforehand', 'although', 'beyond', 'can', 'it', 'itself', 'move', 'out', 'none', 'therefore', 'they', 'enough', 'twelve', 'and', 'during', 'must', 'thence', 'however', 'those', 'all', 'might', 'neither', 'often', 'whom', 'into', 'quite', 'i', 'anyway', 'seem', 'towards', 'six', 'whereas', 'please', 'whither', 'few', 'empty', 'wherever', 'ca', 'just', 'him', 'back', 'ourselves', 'everyone', 'made', 'again', 'per', 'anything', 'nevertheless', 'done', 're', 'there', 'whereby', 'whether', 'against', 'beside', 'where', 'everything', 'than', 'whoever', 'of', 'about', 'us', 'did', 'regarding', 'except', 'became', 'nor', 'eight', 'sometimes', 'become', 'if', 'both', 'namely', 'should', 'am', 'through', 'to', 'thru', 'either', 'already', 'have', 'first', 'she', 'who', 'get', 'various', 'every', 'an', 'thereafter', 'whatever', 'yet', 'why', 'whose', 'sixty', 'been', 'always', 'by', 'doing', 'along', 'latterly', 'herself', 'others', 'say', 'third', 'though', 'hers', 'cannot', 'these', 'your', 'across', 'but', 'could', 'thus', 'top', 'former', 'the', 'same', 'for', 'elsewhere', 'fifteen', 'themselves', 'serious', 'being', 'its', 'herein', 'less', 'everywhere', 'do', 'as', 'ever', 'indeed', 'only', 'hereafter', 'keep', 'eleven', 'give', 'wherein', 'via', 'bottom', 'mine', 'go', 'somewhere', 'with', 'me', 'something', 'toward', 'latter', 'seeming', 'somehow', 'three', 'almost', 'my', 'are', 'after', 'himself', 'least', 'becoming', 'perhaps', 'throughout', 'really', 'within', 'make', 'rather', 'hundred', 'behind', 'unless', 'then', 'whereupon', 'up', 'would', 'formerly', 'hereby', 'yours', 'anywhere', 'from', 'her', 'one', 'whenever', 'is', 'a', 'more', 'therein', 'anyone', 'together', 'too', 'upon', 'when', 'while', 'hence', 'nothing', 'part', 'besides', 'put', 'take', 'many', 'whence', 'nobody', 'was', 'meanwhile', 'ten', 'amongst', 'five', 'in', 'next', 'because', 'becomes', 'over', 'seems', 'not', 'most', 'around', 'be', 'now', 'nowhere', 'until', 'further', 'last', 'at', 'how', 'that', 'call', 'once', 'each', 'ours', 'whole', 'nine', 'below', 'above', 'here', 'name', 'since', 'even', 'still', 'among', 'you', 'no', 'any', 'our', 'also', 'were', 'what', 'side', 'amount', 'anyhow', 'forty'}\n"
     ]
    }
   ],
   "source": [
    "print(nlp.Defaults.stop_words)"
   ]
  },
  {
   "cell_type": "markdown",
   "metadata": {},
   "source": [
    "## Add a new stop word to default"
   ]
  },
  {
   "cell_type": "code",
   "execution_count": 15,
   "metadata": {},
   "outputs": [
    {
     "data": {
      "text/plain": [
       "False"
      ]
     },
     "execution_count": 15,
     "metadata": {},
     "output_type": "execute_result"
    }
   ],
   "source": [
    "nlp.vocab['btw'].is_stop"
   ]
  },
  {
   "cell_type": "code",
   "execution_count": 16,
   "metadata": {},
   "outputs": [],
   "source": [
    "nlp.Defaults.stop_words.add('btw')\n",
    "nlp.vocab['btw'].is_stop=True"
   ]
  },
  {
   "cell_type": "code",
   "execution_count": 17,
   "metadata": {},
   "outputs": [
    {
     "data": {
      "text/plain": [
       "True"
      ]
     },
     "execution_count": 17,
     "metadata": {},
     "output_type": "execute_result"
    }
   ],
   "source": [
    "nlp.vocab['btw'].is_stop"
   ]
  },
  {
   "cell_type": "markdown",
   "metadata": {},
   "source": [
    "## Remove a stop word from defaults"
   ]
  },
  {
   "cell_type": "code",
   "execution_count": 18,
   "metadata": {},
   "outputs": [],
   "source": [
    "nlp.Defaults.stop_words.remove('btw')\n",
    "nlp.vocab['btw'].is_stop=False"
   ]
  },
  {
   "cell_type": "code",
   "execution_count": 19,
   "metadata": {},
   "outputs": [
    {
     "data": {
      "text/plain": [
       "False"
      ]
     },
     "execution_count": 19,
     "metadata": {},
     "output_type": "execute_result"
    }
   ],
   "source": [
    "nlp.vocab['btw'].is_stop"
   ]
  },
  {
   "cell_type": "code",
   "execution_count": null,
   "metadata": {},
   "outputs": [],
   "source": []
  }
 ],
 "metadata": {
  "kernelspec": {
   "display_name": "Python 3",
   "language": "python",
   "name": "python3"
  },
  "language_info": {
   "codemirror_mode": {
    "name": "ipython",
    "version": 3
   },
   "file_extension": ".py",
   "mimetype": "text/x-python",
   "name": "python",
   "nbconvert_exporter": "python",
   "pygments_lexer": "ipython3",
   "version": "3.7.6"
  }
 },
 "nbformat": 4,
 "nbformat_minor": 4
}
