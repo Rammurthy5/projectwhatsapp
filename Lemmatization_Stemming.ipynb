{
 "cells": [
  {
   "cell_type": "markdown",
   "metadata": {},
   "source": [
    "# Stemming"
   ]
  },
  {
   "cell_type": "code",
   "execution_count": 5,
   "metadata": {},
   "outputs": [],
   "source": [
    "from nltk.stem.porter import PorterStemmer\n",
    "from nltk.stem.snowball import SnowballStemmer"
   ]
  },
  {
   "cell_type": "code",
   "execution_count": 11,
   "metadata": {},
   "outputs": [],
   "source": [
    "words = ['run', 'ran', 'running', 'runner', 'easily', 'fairness', 'runs', 'generous', 'generation', 'generously', 'generate']"
   ]
  },
  {
   "cell_type": "code",
   "execution_count": 12,
   "metadata": {},
   "outputs": [
    {
     "name": "stdout",
     "output_type": "stream",
     "text": [
      "run   run\n",
      "ran   ran\n",
      "running   run\n",
      "runner   runner\n",
      "easily   easili\n",
      "fairness   fair\n",
      "runs   run\n",
      "generous   gener\n",
      "generation   gener\n",
      "generously   gener\n",
      "generate   gener\n"
     ]
    }
   ],
   "source": [
    "for w in words:\n",
    "    print(w, \" \", PorterStemmer().stem(w))"
   ]
  },
  {
   "cell_type": "code",
   "execution_count": 13,
   "metadata": {},
   "outputs": [
    {
     "name": "stdout",
     "output_type": "stream",
     "text": [
      "run   run\n",
      "ran   ran\n",
      "running   run\n",
      "runner   runner\n",
      "easily   easili\n",
      "fairness   fair\n",
      "runs   run\n",
      "generous   generous\n",
      "generation   generat\n",
      "generously   generous\n",
      "generate   generat\n"
     ]
    }
   ],
   "source": [
    "for w in words:\n",
    "    print(w, \" \", SnowballStemmer(language='english').stem(w))"
   ]
  },
  {
   "cell_type": "markdown",
   "metadata": {},
   "source": [
    "# Lemmatization"
   ]
  },
  {
   "cell_type": "code",
   "execution_count": 14,
   "metadata": {},
   "outputs": [],
   "source": [
    "import spacy\n",
    "nlp = spacy.load('en_core_web_sm')"
   ]
  },
  {
   "cell_type": "code",
   "execution_count": 16,
   "metadata": {},
   "outputs": [],
   "source": [
    "doc = nlp(u'I am a greatest runner runs on the running platform out there, generously generated the speed I ran. Easily! ')"
   ]
  },
  {
   "cell_type": "code",
   "execution_count": 19,
   "metadata": {},
   "outputs": [
    {
     "name": "stdout",
     "output_type": "stream",
     "text": [
      "I PRON -PRON-\n",
      "am VERB be\n",
      "a DET a\n",
      "greatest ADJ great\n",
      "runner NOUN runner\n",
      "runs NOUN run\n",
      "on ADP on\n",
      "the DET the\n",
      "running VERB run\n",
      "platform NOUN platform\n",
      "out ADV out\n",
      "there ADV there\n",
      ", PUNCT ,\n",
      "generously ADV generously\n",
      "generated VERB generate\n",
      "the DET the\n",
      "speed NOUN speed\n",
      "I PRON -PRON-\n",
      "ran VERB run\n",
      ". PUNCT .\n",
      "Easily ADV easily\n",
      "! PUNCT !\n"
     ]
    }
   ],
   "source": [
    "for token in doc:\n",
    "    print(token.text, token.pos_, token.lemma_, end=\"\\n\")"
   ]
  },
  {
   "cell_type": "code",
   "execution_count": 21,
   "metadata": {},
   "outputs": [
    {
     "data": {
      "text/plain": [
       "'adposition'"
      ]
     },
     "execution_count": 21,
     "metadata": {},
     "output_type": "execute_result"
    }
   ],
   "source": [
    "spacy.explain('ADP')"
   ]
  },
  {
   "cell_type": "code",
   "execution_count": null,
   "metadata": {},
   "outputs": [],
   "source": []
  }
 ],
 "metadata": {
  "kernelspec": {
   "display_name": "Python 3",
   "language": "python",
   "name": "python3"
  },
  "language_info": {
   "codemirror_mode": {
    "name": "ipython",
    "version": 3
   },
   "file_extension": ".py",
   "mimetype": "text/x-python",
   "name": "python",
   "nbconvert_exporter": "python",
   "pygments_lexer": "ipython3",
   "version": "3.7.6"
  }
 },
 "nbformat": 4,
 "nbformat_minor": 4
}
